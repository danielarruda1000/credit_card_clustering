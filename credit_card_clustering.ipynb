{
  "nbformat": 4,
  "nbformat_minor": 0,
  "metadata": {
    "colab": {
      "name": "credit_card_clustering",
      "provenance": [],
      "authorship_tag": "ABX9TyMRgN+LBecX0COB51/r299d",
      "include_colab_link": true
    },
    "kernelspec": {
      "name": "python3",
      "display_name": "Python 3"
    },
    "language_info": {
      "name": "python"
    }
  },
  "cells": [
    {
      "cell_type": "markdown",
      "metadata": {
        "id": "view-in-github",
        "colab_type": "text"
      },
      "source": [
        "<a href=\"https://colab.research.google.com/github/danielarruda1000/credit_card_clustering/blob/main/credit_card_clustering.ipynb\" target=\"_parent\"><img src=\"https://colab.research.google.com/assets/colab-badge.svg\" alt=\"Open In Colab\"/></a>"
      ]
    },
    {
      "cell_type": "markdown",
      "source": [
        "# Credit Card Clustering\n",
        "This case requires to develop a customer segmentation to define marketing strategy. The\n",
        "sample Dataset summarizes the usage behavior of about 9000 active credit card holders during the last 6 months. The file is at a customer level with 18 behavioral variables."
      ],
      "metadata": {
        "id": "sC1BkzNoIi6U"
      }
    },
    {
      "cell_type": "code",
      "source": [
        ""
      ],
      "metadata": {
        "id": "o3OwyqVxIl0o"
      },
      "execution_count": null,
      "outputs": []
    }
  ]
}